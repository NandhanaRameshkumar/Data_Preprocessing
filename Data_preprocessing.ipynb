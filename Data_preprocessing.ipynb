{
  "cells": [
    {
      "cell_type": "markdown",
      "metadata": {
        "id": "view-in-github",
        "colab_type": "text"
      },
      "source": [
        "<a href=\"https://colab.research.google.com/github/NandhanaRameshkumar/Data_Preprocessing/blob/main/Data_preprocessing.ipynb\" target=\"_parent\"><img src=\"https://colab.research.google.com/assets/colab-badge.svg\" alt=\"Open In Colab\"/></a>"
      ]
    },
    {
      "cell_type": "code",
      "execution_count": null,
      "metadata": {
        "id": "vgSP2IAvTSio"
      },
      "outputs": [],
      "source": [
        "import pandas as pd\n",
        "from sklearn.model_selection import train_test_split\n",
        "from sklearn.preprocessing import StandardScaler  # For feature scaling\n",
        "from sklearn.linear_model import LinearRegression  # Replace with your chosen model"
      ]
    },
    {
      "cell_type": "code",
      "execution_count": null,
      "metadata": {
        "id": "xNbXMWtSXLkL"
      },
      "outputs": [],
      "source": [
        "# Access a specific column (e.g., Close price)\n",
        "close_prices = data['Close']\n",
        "\n",
        "# Calculate statistics on a column (e.g., average Close price)\n",
        "average_close = close_prices.mean()\n",
        "\n",
        "# Filter data based on a condition (e.g., Close price higher than 100)\n",
        "high_close_days = data[data['Close'] > 100]"
      ]
    },
    {
      "cell_type": "code",
      "execution_count": null,
      "metadata": {
        "id": "FJXkayR_XT_f"
      },
      "outputs": [],
      "source": [
        "# Add a new column (e.g., Daily Change)\n",
        "data['Daily Change'] = data['Close'] - data['Open']\n",
        "\n",
        "# Drop a column (e.g., Adj Close)\n",
        "data.drop('Adj Close', axis=1, inplace=True)  # Modifies original data\n",
        "\n",
        "# Rename a column (e.g., Low to Min Price)\n",
        "data.rename(columns={'Low': 'Min Price'}, inplace=True)  # Modifies original data"
      ]
    },
    {
      "cell_type": "code",
      "execution_count": null,
      "metadata": {
        "id": "8sPWK1hwZULW"
      },
      "outputs": [],
      "source": [
        "data = pd.read_csv('/content/MarketData2.csv')"
      ]
    },
    {
      "cell_type": "code",
      "execution_count": null,
      "metadata": {
        "id": "EcVLTIYYZbmI"
      },
      "outputs": [],
      "source": [
        "# Define the target variable (e.g., predict future closing price)\n",
        "target_variable = 'Close'"
      ]
    },
    {
      "cell_type": "code",
      "execution_count": null,
      "metadata": {
        "id": "I74ACYImZgZb"
      },
      "outputs": [],
      "source": [
        "features = ['Open', 'High', 'Low', 'Volume']"
      ]
    },
    {
      "cell_type": "code",
      "execution_count": null,
      "metadata": {
        "colab": {
          "background_save": true
        },
        "id": "Su_Cw0k2ZkiP"
      },
      "outputs": [],
      "source": [
        "X = data[features]\n",
        "y = data[target_variable]"
      ]
    },
    {
      "cell_type": "code",
      "execution_count": null,
      "metadata": {
        "id": "FXwhV8HfZp_u"
      },
      "outputs": [],
      "source": [
        "X_train, X_test, y_train, y_test = train_test_split(X, y, test_size=0.2, random_state=42)"
      ]
    }
  ],
  "metadata": {
    "colab": {
      "provenance": [],
      "authorship_tag": "ABX9TyNt1GTt78FG3n2oICFBtDyO",
      "include_colab_link": true
    },
    "kernelspec": {
      "display_name": "Python 3",
      "name": "python3"
    },
    "language_info": {
      "name": "python"
    }
  },
  "nbformat": 4,
  "nbformat_minor": 0
}